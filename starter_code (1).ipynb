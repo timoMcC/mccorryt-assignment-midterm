{
 "cells": [
  {
   "cell_type": "markdown",
   "metadata": {},
   "source": [
    "# Libraries"
   ]
  },
  {
   "cell_type": "code",
   "execution_count": 1,
   "metadata": {},
   "outputs": [],
   "source": [
    "import pickle\n",
    "import pandas as pd\n",
    "import seaborn as sns\n",
    "from os.path import exists\n",
    "import matplotlib.pyplot as plt\n",
    "from sklearn.neighbors import KNeighborsClassifier\n",
    "from sklearn.model_selection import train_test_split\n",
    "from sklearn.metrics import accuracy_score, confusion_matrix\n",
    "from vaderSentiment.vaderSentiment import SentimentIntensityAnalyzer\n"
   ]
  },
  {
   "cell_type": "markdown",
   "metadata": {},
   "source": [
    "# Loading the Files\n",
    "\n",
    "Download the csv files into the `data/` directory."
   ]
  },
  {
   "cell_type": "code",
   "execution_count": 2,
   "metadata": {},
   "outputs": [
    {
     "name": "stdout",
     "output_type": "stream",
     "text": [
      "train.csv shape is  (1697533, 9)\n",
      "test.csv shape is  (212192, 2)\n",
      "trainingSet head: \n",
      "        Id   ProductId          UserId  HelpfulnessNumerator  \\\n",
      "0   914403  B0009W5KHM   AV6QDP8Q0ONK4                     2   \n",
      "1   354887  6303079709  A2I8RXJN80A2D2                     0   \n",
      "2  1407653  B004H0M2XC  A3FHV3RV8Z12E6                     0   \n",
      "3  1377458  B003ZJ9536  A12VLTA3ZHVPUY                     1   \n",
      "4   475323  630574453X  A13NM1PES9OXVN                     2   \n",
      "\n",
      "   HelpfulnessDenominator        Time  \\\n",
      "0                       2  1341014400   \n",
      "1                       0  1168819200   \n",
      "2                       0  1386201600   \n",
      "3                       1  1348704000   \n",
      "4                       3   970012800   \n",
      "\n",
      "                                         Summary  \\\n",
      "0                                  GOOD FUN FILM   \n",
      "1                                   Movie Review   \n",
      "2             When is it a good time to Consent?   \n",
      "3                                          TRUTH   \n",
      "4  Intelligent and bittersweet -- stays with you   \n",
      "\n",
      "                                                Text  Score  \n",
      "0  While most straight to DVD films are not worth...    5.0  \n",
      "1  I have wanted this one for sometime, also.  I ...    5.0  \n",
      "2  Actually this was a pretty darn good indie fil...    4.0  \n",
      "3  Episodes 37 to 72 of the series press on in a ...    5.0  \n",
      "4  I was really impressed with this movie, but wa...    3.0  \n",
      "\n",
      "Column titles:\n",
      "['Id', 'ProductId', 'UserId', 'HelpfulnessNumerator', 'HelpfulnessDenominator', 'Time', 'Summary', 'Text', 'Score']\n",
      "\n",
      "testingSet head: \n",
      "        Id  Score\n",
      "0  1323432    NaN\n",
      "1  1137299    NaN\n",
      "2  1459366    NaN\n",
      "3   931601    NaN\n",
      "4  1311995    NaN\n",
      "\n",
      "                 Id  HelpfulnessNumerator  HelpfulnessDenominator  \\\n",
      "count  1.697533e+06          1.697533e+06            1.697533e+06   \n",
      "mean   8.487660e+05          3.569048e+00            5.301422e+00   \n",
      "std    4.900357e+05          1.727883e+01            2.024445e+01   \n",
      "min    0.000000e+00          0.000000e+00            0.000000e+00   \n",
      "25%    4.243830e+05          0.000000e+00            0.000000e+00   \n",
      "50%    8.487660e+05          1.000000e+00            1.000000e+00   \n",
      "75%    1.273149e+06          3.000000e+00            5.000000e+00   \n",
      "max    1.697532e+06          6.084000e+03            6.510000e+03   \n",
      "\n",
      "               Time         Score  \n",
      "count  1.697533e+06  1.485341e+06  \n",
      "mean   1.262422e+09  4.110517e+00  \n",
      "std    1.289277e+08  1.197651e+00  \n",
      "min    8.793792e+08  1.000000e+00  \n",
      "25%    1.164413e+09  4.000000e+00  \n",
      "50%    1.307491e+09  5.000000e+00  \n",
      "75%    1.373242e+09  5.000000e+00  \n",
      "max    1.406074e+09  5.000000e+00  \n"
     ]
    },
    {
     "data": {
      "image/png": "[encoded data removed]",
      "text/plain": [
       "<Figure size 640x480 with 1 Axes>"
      ]
     },
     "metadata": {},
     "output_type": "display_data"
    },
    {
     "name": "stdout",
     "output_type": "stream",
     "text": [
      "\n",
      "EVERYTHING IS PROPERLY SET UP! YOU ARE READY TO START\n"
     ]
    }
   ],
   "source": [
    "trainingSet = pd.read_csv(\"./data/train.csv\")\n",
    "testingSet = pd.read_csv(\"./data/test.csv\")\n",
    "\n",
    "print(\"train.csv shape is \", trainingSet.shape)\n",
    "print(\"test.csv shape is \", testingSet.shape)\n",
    "\n",
    "print(\"trainingSet head: \")\n",
    "\n",
    "print(trainingSet.head())\n",
    "print()\n",
    "# Print all column names\n",
    "print(\"Column titles:\")\n",
    "print(trainingSet.columns.tolist())\n",
    "print()\n",
    "print(\"testingSet head: \")\n",
    "print(testingSet.head())\n",
    "\n",
    "print()\n",
    "\n",
    "print(trainingSet.describe())\n",
    "\n",
    "trainingSet['Score'].value_counts().plot(kind='bar', legend=True, alpha=.5)\n",
    "plt.show()\n",
    "\n",
    "print()\n",
    "print(\"EVERYTHING IS PROPERLY SET UP! YOU ARE READY TO START\")"
   ]
  },
  {
   "cell_type": "markdown",
   "metadata": {},
   "source": [
    "# Adding Features"
   ]
  },
  {
   "cell_type": "code",
   "execution_count": 3,
   "metadata": {},
   "outputs": [],
   "source": [
    "def add_features_to(df):\n",
    "    # This is where you can do all your feature extraction\n",
    "\n",
    "    df['Helpfulness'] = df['HelpfulnessNumerator'] / df['HelpfulnessDenominator']\n",
    "    df['Helpfulness'] = df['Helpfulness'].fillna(0)\n",
    "\n",
    "    # def get_sentiment_scores(text):\n",
    "\n",
    "    #     analyzer = SentimentIntensityAnalyzer()\n",
    "    #     scores = analyzer.polarity_scores(text)\n",
    "\n",
    "    #     return scores['pos'], scores['neg']\n",
    "\n",
    "    # df[['Positivity_Score', 'Negativity_Score']] = df['Text'].apply(get_sentiment_scores).apply(pd.Series)\n",
    "\n",
    "    print(df.head())\n",
    "\n",
    "    return df\n",
    "\n",
    "# Load the feature extracted files if they've already been generated\n",
    "if exists('./data/X_train.csv'):\n",
    "    X_train = pd.read_csv(\"./data/X_train.csv\")\n",
    "if exists('./data/X_submission.csv'):\n",
    "    X_submission = pd.read_csv(\"./data/X_submission.csv\")\n",
    "\n",
    "else:\n",
    "    # Process the DataFrame\n",
    "    train = add_features_to(trainingSet)\n",
    "\n",
    "    # Merge on Id so that the submission set can have feature columns as well\n",
    "    X_submission = pd.merge(train, testingSet, left_on='Id', right_on='Id')\n",
    "    X_submission = X_submission.drop(columns=['Score_x'])\n",
    "    X_submission = X_submission.rename(columns={'Score_y': 'Score'})\n",
    "\n",
    "    # The training set is where the score is not null\n",
    "    X_train =  train[train['Score'].notnull()]\n",
    "\n",
    "    X_submission.to_csv(\"./data/X_submission.csv\", index=False)\n",
    "    X_train.to_csv(\"./data/X_train.csv\", index=False)"
   ]
  },
  {
   "cell_type": "code",
   "execution_count": 4,
   "metadata": {},
   "outputs": [],
   "source": [
    "from vaderSentiment.vaderSentiment import SentimentIntensityAnalyzer\n",
    "import pandas as pd\n",
    "\n",
    "# Initialize the sentiment analyzer once\n",
    "analyzer = SentimentIntensityAnalyzer()\n",
    "\n",
    "def get_sentiment_scores(text):\n",
    "    if isinstance(text, str):  # Check if the text is a string\n",
    "        scores = analyzer.polarity_scores(text)\n",
    "        return scores['pos'], scores['neg']\n",
    "    else:\n",
    "        return 0, 0  # Return default scores for non-string inputs\n",
    "\n",
    "# Ensure 'Summary' has no NaN values\n",
    "X_train['Summary'] = X_train['Summary'].fillna('')\n",
    "X_submission['Summary'] = X_submission['Summary'].fillna('')\n",
    "\n",
    "# Apply the sentiment scoring\n",
    "X_train[['Positivity_Score', 'Negativity_Score']] = X_train['Summary'].apply(get_sentiment_scores).apply(pd.Series)\n",
    "\n",
    "X_submission[['Positivity_Score', 'Negativity_Score']] = X_submission['Summary'].apply(get_sentiment_scores).apply(pd.Series)"
   ]
  },
  {
   "cell_type": "code",
   "execution_count": 5,
   "metadata": {},
   "outputs": [],
   "source": [
    "# X_train_merged = X_train.merge(trainingSet[['Id', 'Score']], on='Id', how='left')"
   ]
  },
  {
   "cell_type": "code",
   "execution_count": 6,
   "metadata": {},
   "outputs": [
    {
     "name": "stdout",
     "output_type": "stream",
     "text": [
      "Index(['Id', 'ProductId', 'UserId', 'HelpfulnessNumerator',\n",
      "       'HelpfulnessDenominator', 'Time', 'Summary', 'Text', 'Score',\n",
      "       'Helpfulness', 'Positivity_Score', 'Negativity_Score'],\n",
      "      dtype='object')\n",
      "Index(['Id', 'ProductId', 'UserId', 'HelpfulnessNumerator',\n",
      "       'HelpfulnessDenominator', 'Time', 'Summary', 'Text', 'Helpfulness',\n",
      "       'Score', 'Positivity_Score', 'Negativity_Score'],\n",
      "      dtype='object')\n"
     ]
    }
   ],
   "source": [
    "# X_train_merged.head()\n",
    "print(X_train.columns)\n",
    "# print(X_train_merged.columns)\n",
    "print(X_submission.columns)\n",
    "\n",
    "\n"
   ]
  },
  {
   "cell_type": "markdown",
   "metadata": {},
   "source": [
    "# Sample + Split into training and testing set"
   ]
  },
  {
   "cell_type": "code",
   "execution_count": 7,
   "metadata": {},
   "outputs": [],
   "source": [
    "# Split training set into training and testing set\n",
    "X_train, X_test, Y_train, Y_test = train_test_split(\n",
    "    X_train.drop(columns=['Score']),\n",
    "    X_train['Score'],\n",
    "    test_size=1/4.0,\n",
    "    random_state=0\n",
    ")"
   ]
  },
  {
   "cell_type": "code",
   "execution_count": 8,
   "metadata": {},
   "outputs": [
    {
     "data": {
      "text/html": [
       "<div>\n",
       "<style scoped>\n",
       "    .dataframe tbody tr th:only-of-type {\n",
       "        vertical-align: middle;\n",
       "    }\n",
       "\n",
       "    .dataframe tbody tr th {\n",
       "        vertical-align: top;\n",
       "    }\n",
       "\n",
       "    .dataframe thead th {\n",
       "        text-align: right;\n",
       "    }\n",
       "</style>\n",
       "<table border=\"1\" class=\"dataframe\">\n",
       "  <thead>\n",
       "    <tr style=\"text-align: right;\">\n",
       "      <th></th>\n",
       "      <th>Id</th>\n",
       "      <th>ProductId</th>\n",
       "      <th>UserId</th>\n",
       "      <th>HelpfulnessNumerator</th>\n",
       "      <th>HelpfulnessDenominator</th>\n",
       "      <th>Time</th>\n",
       "      <th>Summary</th>\n",
       "      <th>Text</th>\n",
       "      <th>Helpfulness</th>\n",
       "      <th>Positivity_Score</th>\n",
       "      <th>Negativity_Score</th>\n",
       "    </tr>\n",
       "  </thead>\n",
       "  <tbody>\n",
       "    <tr>\n",
       "      <th>131283</th>\n",
       "      <td>430123</td>\n",
       "      <td>6304628153</td>\n",
       "      <td>A1KD93LN4BHUT3</td>\n",
       "      <td>13</td>\n",
       "      <td>13</td>\n",
       "      <td>1120608000</td>\n",
       "      <td>Excellent WWII-Era Retelling of The Scarlet Pi...</td>\n",
       "      <td>A&amp;E; used to show this old movie every so ofte...</td>\n",
       "      <td>1.00</td>\n",
       "      <td>0.381</td>\n",
       "      <td>0.0</td>\n",
       "    </tr>\n",
       "    <tr>\n",
       "      <th>1202017</th>\n",
       "      <td>839984</td>\n",
       "      <td>B0002M5U6A</td>\n",
       "      <td>A3PXY2C0L3KLK</td>\n",
       "      <td>1</td>\n",
       "      <td>1</td>\n",
       "      <td>1343088000</td>\n",
       "      <td>Forgettable camp</td>\n",
       "      <td>Not as good as Rankin/Bass other specials. The...</td>\n",
       "      <td>1.00</td>\n",
       "      <td>0.000</td>\n",
       "      <td>0.0</td>\n",
       "    </tr>\n",
       "    <tr>\n",
       "      <th>511808</th>\n",
       "      <td>320579</td>\n",
       "      <td>6302561868</td>\n",
       "      <td>AV1KYJXHOWPMD</td>\n",
       "      <td>6</td>\n",
       "      <td>10</td>\n",
       "      <td>1155600000</td>\n",
       "      <td>Skip it.</td>\n",
       "      <td>Aliens was the perfect conclusion, but this ru...</td>\n",
       "      <td>0.60</td>\n",
       "      <td>0.000</td>\n",
       "      <td>0.0</td>\n",
       "    </tr>\n",
       "    <tr>\n",
       "      <th>955172</th>\n",
       "      <td>1600915</td>\n",
       "      <td>B009OCR1OI</td>\n",
       "      <td>A14SX0UQVZ9IU0</td>\n",
       "      <td>3</td>\n",
       "      <td>4</td>\n",
       "      <td>1374451200</td>\n",
       "      <td>\"Dense, voyeuristic and tangible...\"</td>\n",
       "      <td>American screenwriter, producer and director C...</td>\n",
       "      <td>0.75</td>\n",
       "      <td>0.000</td>\n",
       "      <td>0.0</td>\n",
       "    </tr>\n",
       "    <tr>\n",
       "      <th>735507</th>\n",
       "      <td>1326832</td>\n",
       "      <td>B0035Q636Q</td>\n",
       "      <td>A2ZD0ZCU166Z1J</td>\n",
       "      <td>0</td>\n",
       "      <td>0</td>\n",
       "      <td>1356566400</td>\n",
       "      <td>Classic Quad Set 2</td>\n",
       "      <td>I bought two of these sets, one for me and one...</td>\n",
       "      <td>0.00</td>\n",
       "      <td>0.000</td>\n",
       "      <td>0.0</td>\n",
       "    </tr>\n",
       "  </tbody>\n",
       "</table>\n",
       "</div>"
      ],
      "text/plain": [
       "              Id   ProductId          UserId  HelpfulnessNumerator  \\\n",
       "131283    430123  6304628153  A1KD93LN4BHUT3                    13   \n",
       "1202017   839984  B0002M5U6A   A3PXY2C0L3KLK                     1   \n",
       "511808    320579  6302561868   AV1KYJXHOWPMD                     6   \n",
       "955172   1600915  B009OCR1OI  A14SX0UQVZ9IU0                     3   \n",
       "735507   1326832  B0035Q636Q  A2ZD0ZCU166Z1J                     0   \n",
       "\n",
       "         HelpfulnessDenominator        Time  \\\n",
       "131283                       13  1120608000   \n",
       "1202017                       1  1343088000   \n",
       "511808                       10  1155600000   \n",
       "955172                        4  1374451200   \n",
       "735507                        0  1356566400   \n",
       "\n",
       "                                                   Summary  \\\n",
       "131283   Excellent WWII-Era Retelling of The Scarlet Pi...   \n",
       "1202017                                   Forgettable camp   \n",
       "511808                                            Skip it.   \n",
       "955172                \"Dense, voyeuristic and tangible...\"   \n",
       "735507                                  Classic Quad Set 2   \n",
       "\n",
       "                                                      Text  Helpfulness  \\\n",
       "131283   A&E; used to show this old movie every so ofte...         1.00   \n",
       "1202017  Not as good as Rankin/Bass other specials. The...         1.00   \n",
       "511808   Aliens was the perfect conclusion, but this ru...         0.60   \n",
       "955172   American screenwriter, producer and director C...         0.75   \n",
       "735507   I bought two of these sets, one for me and one...         0.00   \n",
       "\n",
       "         Positivity_Score  Negativity_Score  \n",
       "131283              0.381               0.0  \n",
       "1202017             0.000               0.0  \n",
       "511808              0.000               0.0  \n",
       "955172              0.000               0.0  \n",
       "735507              0.000               0.0  "
      ]
     },
     "execution_count": 8,
     "metadata": {},
     "output_type": "execute_result"
    }
   ],
   "source": [
    "X_train.head()"
   ]
  },
  {
   "cell_type": "markdown",
   "metadata": {},
   "source": [
    "# Feature Selection"
   ]
  },
  {
   "cell_type": "code",
   "execution_count": 9,
   "metadata": {},
   "outputs": [
    {
     "name": "stdout",
     "output_type": "stream",
     "text": [
      "Index(['Id', 'ProductId', 'UserId', 'HelpfulnessNumerator',\n",
      "       'HelpfulnessDenominator', 'Time', 'Summary', 'Text', 'Helpfulness',\n",
      "       'Score', 'Positivity_Score', 'Negativity_Score'],\n",
      "      dtype='object')\n"
     ]
    }
   ],
   "source": [
    "# Print the columns of the X_submission DataFrame\n",
    "print(X_submission.columns)\n"
   ]
  },
  {
   "cell_type": "code",
   "execution_count": 10,
   "metadata": {},
   "outputs": [],
   "source": [
    "features = ['Helpfulness','Positivity_Score', 'Negativity_Score']\n",
    "\n",
    "X_train_select = X_train[features]\n",
    "X_test_select = X_test[features]\n",
    "X_submission_select = X_submission[features]"
   ]
  },
  {
   "cell_type": "markdown",
   "metadata": {},
   "source": [
    "# Model Creation"
   ]
  },
  {
   "cell_type": "code",
   "execution_count": 11,
   "metadata": {},
   "outputs": [],
   "source": [
    "# # Learn the model\n",
    "# model = KNeighborsClassifier(n_neighbors=7).fit(X_train_select, Y_train)\n",
    "\n",
    "# # Predict the score using the model\n",
    "# Y_test_predictions = model.predict(X_test_select)"
   ]
  },
  {
   "cell_type": "code",
   "execution_count": 12,
   "metadata": {},
   "outputs": [],
   "source": [
    "from sklearn.ensemble import RandomForestClassifier\n",
    "\n",
    "model = RandomForestClassifier(n_estimators=100, random_state=40)\n",
    "\n",
    "model.fit(X_train_select,Y_train)\n",
    "\n",
    "Y_test_predictions2 = model.predict(X_test_select)"
   ]
  },
  {
   "cell_type": "markdown",
   "metadata": {},
   "source": [
    "# Model Evaluation"
   ]
  },
  {
   "cell_type": "code",
   "execution_count": 13,
   "metadata": {},
   "outputs": [
    {
     "name": "stdout",
     "output_type": "stream",
     "text": [
      "Accuracy on testing set =  0.5435858629381477\n"
     ]
    },
    {
     "data": {
      "image/png": "[encoded data removed]",
      "text/plain": [
       "<Figure size 640x480 with 2 Axes>"
      ]
     },
     "metadata": {},
     "output_type": "display_data"
    }
   ],
   "source": [
    "# Evaluate your model on the testing set\n",
    "print(\"Accuracy on testing set = \", accuracy_score(Y_test, Y_test_predictions2))\n",
    "\n",
    "# Plot a confusion matrix\n",
    "cm = confusion_matrix(Y_test, Y_test_predictions2, normalize='true')\n",
    "sns.heatmap(cm, annot=True)\n",
    "plt.title('Confusion matrix of the classifier')\n",
    "plt.xlabel('Predicted')\n",
    "plt.ylabel('True')\n",
    "plt.show()"
   ]
  },
  {
   "cell_type": "markdown",
   "metadata": {},
   "source": [
    "# Create submission file"
   ]
  },
  {
   "cell_type": "code",
   "execution_count": 14,
   "metadata": {},
   "outputs": [],
   "source": [
    "# Create the submission file\n",
    "X_submission['Score'] = model.predict(X_submission_select)\n",
    "submission = X_submission[['Id', 'Score']]\n",
    "submission.to_csv(\"./data/submission.csv\", index=False)"
   ]
  }
 ],
 "metadata": {
  "kernelspec": {
   "display_name": "env",
   "language": "python",
   "name": "python3"
  },
  "language_info": {
   "codemirror_mode": {
    "name": "ipython",
    "version": 3
   },
   "file_extension": ".py",
   "mimetype": "text/x-python",
   "name": "python",
   "nbconvert_exporter": "python",
   "pygments_lexer": "ipython3",
   "version": "3.10.5"
  }
 },
 "nbformat": 4,
 "nbformat_minor": 2
}
